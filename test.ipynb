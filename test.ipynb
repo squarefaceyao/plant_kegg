{
 "cells": [
  {
   "cell_type": "code",
   "execution_count": 1,
   "metadata": {
    "collapsed": true
   },
   "outputs": [],
   "source": [
    "from Pathway2Graph import Pathway2Graph"
   ]
  },
  {
   "cell_type": "code",
   "execution_count": 2,
   "metadata": {},
   "outputs": [],
   "source": [
    "name='ath00480'\n",
    "re = Pathway2Graph(name)\n"
   ]
  },
  {
   "cell_type": "code",
   "execution_count": 4,
   "metadata": {},
   "outputs": [
    {
     "name": "stdout",
     "output_type": "stream",
     "text": [
      "               0     1              2     3\n",
      "0  ath:AT1G44790  gene  ath:AT1G69820  gene\n",
      "1  ath:AT1G44790  gene  ath:AT5G37830  gene\n",
      "2  ath:AT5G37830  gene  ath:AT1G44790  gene\n",
      "3  ath:AT5G37830  gene  ath:AT1G69820  gene\n",
      "4  ath:AT5G37830  gene  ath:AT4G23100  gene\n"
     ]
    }
   ],
   "source": [
    "(print(re.head()))"
   ]
  },
  {
   "cell_type": "code",
   "execution_count": 41,
   "metadata": {},
   "outputs": [
    {
     "name": "stdout",
     "output_type": "stream",
     "text": [
      "ath:AT1G06190\n"
     ]
    }
   ],
   "source": [
    "#!/usr/bin/env python\n",
    "# -*- coding: UTF-8 -*-\n",
    "'''=================================================\n",
    "@Project -> File   ：plant-kegg -> embedding\n",
    "@IDE    ：PyCharm\n",
    "@Author ：Mr. Y\n",
    "@Date   ：2021-07-05 23:58\n",
    "@Desc   ：\n",
    "=================================================='''\n",
    "\n",
    "\n",
    "import numpy as np\n",
    "import pandas as pd\n",
    "import codecs\n",
    "from Pathway2Graph import Pathway2Graph\n",
    "from tensorflow.keras.preprocessing.text import Tokenizer\n",
    "from keggstand.api import Kegg, NestedDictionary\n",
    "\n",
    "\n",
    "client = Kegg(cache=True)\n",
    "accessions = client.list_genes(organism='ath')\n",
    "test = accessions[0]\n",
    "print(test[0])"
   ]
  },
  {
   "cell_type": "code",
   "execution_count": 49,
   "metadata": {},
   "outputs": [],
   "source": [
    "all_gene=[]\n",
    "for i in range(len(accessions)):\n",
    "    a  = accessions[i][0][4:]\n",
    "    all_gene.append(a)\n"
   ]
  },
  {
   "cell_type": "code",
   "execution_count": 58,
   "metadata": {},
   "outputs": [],
   "source": [
    "all_gene = pd.DataFrame(np.array(all_gene))\n",
    "all_gene.columns=['gene']"
   ]
  },
  {
   "cell_type": "code",
   "execution_count": 61,
   "metadata": {},
   "outputs": [],
   "source": [
    "# all_gene.to_csv('kegg_all_gene_ath.csv',index=False)"
   ]
  },
  {
   "cell_type": "code",
   "execution_count": 70,
   "metadata": {},
   "outputs": [
    {
     "data": {
      "text/plain": [
       "28702"
      ]
     },
     "execution_count": 70,
     "metadata": {},
     "output_type": "execute_result"
    }
   ],
   "source": [
    "len(all_gene['gene'].values.tolist())"
   ]
  },
  {
   "cell_type": "code",
   "execution_count": 62,
   "metadata": {},
   "outputs": [],
   "source": [
    "gene_name = list(all_gene['gene'])\n",
    "\n",
    "tokenizer = Tokenizer()\n",
    "tokenizer.fit_on_texts(gene_name)"
   ]
  },
  {
   "cell_type": "code",
   "execution_count": 67,
   "metadata": {},
   "outputs": [
    {
     "data": {
      "text/plain": [
       "28702"
      ]
     },
     "execution_count": 67,
     "metadata": {},
     "output_type": "execute_result"
    }
   ],
   "source": [
    "len(tokenizer.word_index)"
   ]
  },
  {
   "cell_type": "code",
   "execution_count": 71,
   "metadata": {},
   "outputs": [],
   "source": [
    "name='ath00480'\n",
    "re = Pathway2Graph(name)\n",
    "# re.columns.values\n",
    "edgs = pd.DataFrame(re,columns=['source','target'])\n",
    "so = list(edgs['source'])"
   ]
  },
  {
   "cell_type": "code",
   "execution_count": 74,
   "metadata": {},
   "outputs": [],
   "source": [
    "so_sequence=tokenizer.texts_to_sequences(so)"
   ]
  },
  {
   "cell_type": "code",
   "execution_count": 81,
   "metadata": {},
   "outputs": [],
   "source": [
    "seq2so = tokenizer.sequences_to_texts(so_sequence)\n",
    "seq2so=[item.upper() for item in seq2so]"
   ]
  },
  {
   "cell_type": "code",
   "execution_count": 82,
   "metadata": {},
   "outputs": [
    {
     "data": {
      "text/plain": [
       "True"
      ]
     },
     "execution_count": 82,
     "metadata": {},
     "output_type": "execute_result"
    }
   ],
   "source": [
    "seq2so == so"
   ]
  },
  {
   "cell_type": "code",
   "execution_count": 84,
   "metadata": {},
   "outputs": [],
   "source": [
    "all_gene = pd.read_csv('./kegg_all_gene_ath.csv')\n",
    "all_gene.columns=['gene']"
   ]
  },
  {
   "cell_type": "code",
   "execution_count": 86,
   "metadata": {},
   "outputs": [
    {
     "data": {
      "text/plain": [
       "(28702, 1)"
      ]
     },
     "execution_count": 86,
     "metadata": {},
     "output_type": "execute_result"
    }
   ],
   "source": [
    "all_gene.shape"
   ]
  },
  {
   "cell_type": "code",
   "execution_count": 88,
   "metadata": {},
   "outputs": [
    {
     "ename": "ImportError",
     "evalue": "cannot import name 'gene2id' from 'Pathway2Graph' (/Users/squareface/PycharmProjects/plant-kegg/Pathway2Graph.py)",
     "traceback": [
      "\u001b[0;31m---------------------------------------------------------------------------\u001b[0m",
      "\u001b[0;31mImportError\u001b[0m                               Traceback (most recent call last)",
      "\u001b[0;32m<ipython-input-88-b6d62d413e5d>\u001b[0m in \u001b[0;36m<module>\u001b[0;34m\u001b[0m\n\u001b[0;32m----> 1\u001b[0;31m \u001b[0;32mfrom\u001b[0m \u001b[0mPathway2Graph\u001b[0m \u001b[0;32mimport\u001b[0m \u001b[0mPathway2Graph\u001b[0m\u001b[0;34m,\u001b[0m\u001b[0mgene2id\u001b[0m\u001b[0;34m,\u001b[0m\u001b[0mid2gene\u001b[0m\u001b[0;34m\u001b[0m\u001b[0;34m\u001b[0m\u001b[0m\n\u001b[0m\u001b[1;32m      2\u001b[0m \u001b[0;34m\u001b[0m\u001b[0m\n\u001b[1;32m      3\u001b[0m \u001b[0mtokenizer\u001b[0m\u001b[0;34m,\u001b[0m\u001b[0msequence\u001b[0m \u001b[0;34m=\u001b[0m \u001b[0mgene2id\u001b[0m\u001b[0;34m(\u001b[0m\u001b[0mso\u001b[0m\u001b[0;34m)\u001b[0m\u001b[0;34m\u001b[0m\u001b[0;34m\u001b[0m\u001b[0m\n",
      "\u001b[0;31mImportError\u001b[0m: cannot import name 'gene2id' from 'Pathway2Graph' (/Users/squareface/PycharmProjects/plant-kegg/Pathway2Graph.py)"
     ],
     "output_type": "error"
    }
   ],
   "source": [
    "from Pathway2Graph import Pathway2Graph,gene2id,id2gene\n",
    "\n",
    "tokenizer,sequence = gene2id(so)"
   ]
  },
  {
   "cell_type": "code",
   "execution_count": 90,
   "metadata": {},
   "outputs": [],
   "source": [
    "def gene2id(source):\n",
    "    '''\n",
    "\n",
    "    Returns: 把基因转换成id\n",
    "\n",
    "    '''\n",
    "    all_gene = pd.read_csv('./kegg_all_gene_ath.csv')\n",
    "#     all_gene = all_gene.columns = ['gene']\n",
    "\n",
    "    gene_name = list(all_gene['gene'])\n",
    "    tokenizer = Tokenizer()\n",
    "    tokenizer.fit_on_texts(gene_name)\n",
    "\n",
    "    sequence = tokenizer.texts_to_sequences(gene)\n",
    "\n",
    "\n",
    "    return tokenizer,sequence\n",
    "\n",
    "\n",
    "tokenizer,sequence = gene2id(so)"
   ]
  },
  {
   "cell_type": "code",
   "execution_count": 92,
   "metadata": {},
   "outputs": [],
   "source": [
    "\n",
    "def id2gene(tokenizer,sequence):\n",
    "    '''\n",
    "\n",
    "    Args:\n",
    "        tokenizer:\n",
    "        sequence:\n",
    "\n",
    "    Returns:\n",
    "\n",
    "    '''\n",
    "    seq2so = tokenizer.sequences_to_texts(sequence)\n",
    "    seq2so = [item.upper() for item in seq2so]\n",
    "\n",
    "    return seq2so\n",
    "\n",
    "so2 = id2gene(tokenizer,sequence)"
   ]
  },
  {
   "cell_type": "code",
   "execution_count": 93,
   "metadata": {},
   "outputs": [
    {
     "data": {
      "text/plain": [
       "True"
      ]
     },
     "execution_count": 93,
     "metadata": {},
     "output_type": "execute_result"
    }
   ],
   "source": [
    "so ==  so2"
   ]
  },
  {
   "cell_type": "code",
   "execution_count": null,
   "metadata": {},
   "outputs": [],
   "source": []
  },
  {
   "cell_type": "code",
   "execution_count": null,
   "metadata": {},
   "outputs": [],
   "source": []
  },
  {
   "cell_type": "code",
   "execution_count": 94,
   "metadata": {},
   "outputs": [
    {
     "ename": "ImportError",
     "evalue": "cannot import name 'gene2id' from 'Pathway2Graph' (/Users/squareface/PycharmProjects/plant-kegg/Pathway2Graph.py)",
     "traceback": [
      "\u001b[0;31m---------------------------------------------------------------------------\u001b[0m",
      "\u001b[0;31mImportError\u001b[0m                               Traceback (most recent call last)",
      "\u001b[0;32m<ipython-input-94-ce3efa18ec81>\u001b[0m in \u001b[0;36m<module>\u001b[0;34m\u001b[0m\n\u001b[1;32m      2\u001b[0m \u001b[0;32mimport\u001b[0m \u001b[0mpandas\u001b[0m \u001b[0;32mas\u001b[0m \u001b[0mpd\u001b[0m\u001b[0;34m\u001b[0m\u001b[0;34m\u001b[0m\u001b[0m\n\u001b[1;32m      3\u001b[0m \u001b[0;32mimport\u001b[0m \u001b[0mcodecs\u001b[0m\u001b[0;34m\u001b[0m\u001b[0;34m\u001b[0m\u001b[0m\n\u001b[0;32m----> 4\u001b[0;31m \u001b[0;32mfrom\u001b[0m \u001b[0mPathway2Graph\u001b[0m \u001b[0;32mimport\u001b[0m \u001b[0mPathway2Graph\u001b[0m\u001b[0;34m,\u001b[0m\u001b[0mgene2id\u001b[0m\u001b[0;34m,\u001b[0m\u001b[0mid2gene\u001b[0m\u001b[0;34m\u001b[0m\u001b[0;34m\u001b[0m\u001b[0m\n\u001b[0m\u001b[1;32m      5\u001b[0m \u001b[0;32mfrom\u001b[0m \u001b[0mtensorflow\u001b[0m\u001b[0;34m.\u001b[0m\u001b[0mkeras\u001b[0m\u001b[0;34m.\u001b[0m\u001b[0mpreprocessing\u001b[0m\u001b[0;34m.\u001b[0m\u001b[0mtext\u001b[0m \u001b[0;32mimport\u001b[0m \u001b[0mTokenizer\u001b[0m\u001b[0;34m\u001b[0m\u001b[0;34m\u001b[0m\u001b[0m\n\u001b[1;32m      6\u001b[0m \u001b[0;32mfrom\u001b[0m \u001b[0mkeggstand\u001b[0m\u001b[0;34m.\u001b[0m\u001b[0mapi\u001b[0m \u001b[0;32mimport\u001b[0m \u001b[0mKegg\u001b[0m\u001b[0;34m,\u001b[0m \u001b[0mNestedDictionary\u001b[0m\u001b[0;34m\u001b[0m\u001b[0;34m\u001b[0m\u001b[0m\n",
      "\u001b[0;31mImportError\u001b[0m: cannot import name 'gene2id' from 'Pathway2Graph' (/Users/squareface/PycharmProjects/plant-kegg/Pathway2Graph.py)"
     ],
     "output_type": "error"
    }
   ],
   "source": [
    "import numpy as np\n",
    "import pandas as pd\n",
    "import codecs\n",
    "from Pathway2Graph import Pathway2Graph,gene2id,id2gene\n",
    "from tensorflow.keras.preprocessing.text import Tokenizer\n",
    "from keggstand.api import Kegg, NestedDictionary\n",
    "\n",
    "name='ath00480'\n",
    "re = Pathway2Graph(name)\n",
    "# re.columns.values\n",
    "edgs = pd.DataFrame(re,columns=['source','target'])\n",
    "so = list(edgs['source'])\n",
    "tar = list(edgs['target'])\n",
    "\n",
    "tokenizer,source_seq,target_seq = gene2id(so,tar)\n",
    "\n",
    "so2 = id2gene(tokenizer,source_seq)\n",
    "tar2 = id2gene(tokenizer,target_seq)\n",
    "\n",
    "print(so2==so)\n",
    "print(tar2==tar)"
   ]
  },
  {
   "cell_type": "code",
   "execution_count": null,
   "metadata": {},
   "outputs": [],
   "source": []
  }
 ],
 "metadata": {
  "kernelspec": {
   "display_name": "Python 3",
   "language": "python",
   "name": "python3"
  },
  "language_info": {
   "codemirror_mode": {
    "name": "ipython",
    "version": 3
   },
   "file_extension": ".py",
   "mimetype": "text/x-python",
   "name": "python",
   "nbconvert_exporter": "python",
   "pygments_lexer": "ipython3",
   "version": "3.7.6"
  }
 },
 "nbformat": 4,
 "nbformat_minor": 1
}
